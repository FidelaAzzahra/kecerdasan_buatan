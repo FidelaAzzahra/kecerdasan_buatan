{
  "nbformat": 4,
  "nbformat_minor": 0,
  "metadata": {
    "colab": {
      "provenance": []
    },
    "kernelspec": {
      "name": "python3",
      "display_name": "Python 3"
    },
    "language_info": {
      "name": "python"
    }
  },
  "cells": [
    {
      "cell_type": "code",
      "execution_count": 9,
      "metadata": {
        "colab": {
          "base_uri": "https://localhost:8080/"
        },
        "id": "tsaUB0zeHnNm",
        "outputId": "1419af4a-9291-4013-ead2-65186977ddb4"
      },
      "outputs": [
        {
          "output_type": "stream",
          "name": "stdout",
          "text": [
            "AFHIJ\n"
          ]
        }
      ],
      "source": [
        "from queue import PriorityQueue # import PriorityQueue dari modul queue\n",
        "\n",
        "# dictionary peta dibuat untuk merepresentasikan graf dengan setiap kunci yang merupakan suatu node dan setiap nilai yang merupakan daftar tuple\n",
        "peta = {\n",
        "    # masukkan rute yang terhubung dan jarak / nilai ke tiap rute\n",
        "    'A': [('B', 6), ('F', 3)],\n",
        "    'B': [('A', 6), ('C', 3)],\n",
        "    'C': [('B', 3), ('D', 1), ('E', 5)],\n",
        "    'D': [('C', 1), ('B', 2), ('E', 8)],\n",
        "    'E': [('C', 5), ('D', 8), ('I', 5), ('J', 5)],\n",
        "    'F': [('A', 3), ('G', 1), ('H', 7)],\n",
        "    'G': [('F', 1), ('I', 3)],\n",
        "    'H': [('F', 7), ('I', 2)],\n",
        "    'I': [('G', 3), ('H', 3), ('E', 5), ('J', 3)],\n",
        "    'J': [('E', 5), ('I', 3)]\n",
        "}\n",
        "\n",
        "#  fungsi greedy_best_first_search yang menerima parameter graph, start, dan goal\n",
        "def greedy_best_first_search(graph, start, goal):\n",
        "    queue = PriorityQueue() # buat sebuah PriorityQueue, yang akan digunakan untuk menyimpan setiap node yang dikunjungi dalam urutan berdasarkan nilai heuristik.\n",
        "    queue.put((heuristic(start, goal), [start])) # memasukkan nilai heuristic start dan start ke dalam queue\n",
        "    visited = set() #  set visited dibuat untuk menyimpan node yang telah dikunjungi.\n",
        "\n",
        "    # saat melakukan loop, kode mengambil path dari queue dan menentukan node yang terakhir dalam path\n",
        "    while not queue.empty():\n",
        "        path = queue.get()[1] # path dari queue\n",
        "        node = path[-1]\n",
        "\n",
        "        if node == goal: # Jika node sama dengan goal\n",
        "            return path # maka path dianggap sebagai jalur terpendek dari start ke goal dan path dikembalikan\n",
        "\n",
        "        if node not in visited: \n",
        "            visited.add(node) # jika tidak, maka node ditambahkan ke visited\n",
        "            for neighbor, distance in graph[node]: # untuk setiap node tetangga yang belum dikunjungi... \n",
        "                new_path = list(path) # jalur baru dibuat dengan menambahkan tetangga ke jalur sebelumnya\n",
        "                new_path.append(neighbor)\n",
        "                queue.put((heuristic(neighbor, goal), new_path)) # jalur baru ini dimasukkan ke dalam PriorityQueue dengan nilai heuristik dari tetangga ke goal.\n",
        "\n",
        "    return None # fungsi mengembalikan None jika tidak ada jalur yang ditemukan.\n",
        "\n",
        "def heuristic(node, goal):\n",
        "    # Mendefinisikan nilai heuristic untuk setiap node\n",
        "    heuristik = {\n",
        "        'A': 10,\n",
        "        'B': 8,\n",
        "        'C': 5,\n",
        "        'D': 7,\n",
        "        'E': 3,\n",
        "        'F': 6,\n",
        "        'G': 5,\n",
        "        'H': 3,\n",
        "        'I': 1,\n",
        "        'J': 0\n",
        "    }\n",
        "    return heuristik[node]\n",
        "\n",
        "# Cari jalur dari A ke J menggunakan Greedy Best First Search dengan heuristik\n",
        "path = greedy_best_first_search(peta, 'A', 'J') # dengan parameter peta, 'A', dan 'J'\n",
        "print(''.join(path)) # jalur yang ditemukan dicetak menggunakan print.\n"
      ]
    }
  ]
}