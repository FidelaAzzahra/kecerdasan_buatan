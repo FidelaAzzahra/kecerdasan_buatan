{
  "nbformat": 4,
  "nbformat_minor": 0,
  "metadata": {
    "colab": {
      "provenance": []
    },
    "kernelspec": {
      "name": "python3",
      "display_name": "Python 3"
    },
    "language_info": {
      "name": "python"
    }
  },
  "cells": [
    {
      "cell_type": "code",
      "execution_count": 3,
      "metadata": {
        "colab": {
          "base_uri": "https://localhost:8080/"
        },
        "id": "59dMwOzrNh7I",
        "outputId": "ccf8ecc3-13a7-40d4-f158-f013e96745c9"
      },
      "outputs": [
        {
          "output_type": "stream",
          "name": "stdout",
          "text": [
            "AFGIJ\n"
          ]
        }
      ],
      "source": [
        "from queue import PriorityQueue # import PriorityQueue dari modul queue\n",
        "\n",
        "peta = {\n",
        "    # masukkan rute yang terhubung dan jarak / nilai ke tiap rute\n",
        "    'A': [('B', 6), ('F', 3)],\n",
        "    'B': [('A', 6), ('C', 3)],\n",
        "    'C': [('B', 3), ('D', 1), ('E', 5)],\n",
        "    'D': [('C', 1), ('B', 2), ('E', 8)],\n",
        "    'E': [('C', 5), ('D', 8), ('I', 5), ('J', 5)],\n",
        "    'F': [('A', 3), ('G', 1), ('H', 7)],\n",
        "    'G': [('F', 1), ('I', 3)],\n",
        "    'H': [('F', 7), ('I', 2)],\n",
        "    'I': [('G', 3), ('H', 3), ('E', 5), ('J', 3)],\n",
        "    'J': [('E', 5), ('I', 3)]\n",
        "}\n",
        "\n",
        "def a_star(graph, start, goal):\n",
        "    queue = PriorityQueue() # fungsi a_star menggunakan antrian prioritas (PriorityQueue) untuk mengelola simpul-simpul pada jalur pencarian\n",
        "    queue.put((0, start, [])) # memasukkan nilai g(n)=0, start, dan list kosong ke dalam queue. Antrian prioritas ini disimpan pada variabel queue\n",
        "    visited = set() # simpul yang telah dikunjungi disimpan pada variabel visited.\n",
        "\n",
        "    while not queue.empty(): # ketika antrian prioritas tidak kosong\n",
        "        cost, node, path = queue.get() # A* akan mengambil simpul dengan total biaya terkecil \n",
        "\n",
        "        # antrian prioritas dan memeriksa apakah simpul tersebut sama dengan simpul goal. \n",
        "        if node == goal: # jika iya, maka jalur dari start hingga goal ditemukan dan dikembalikan.\n",
        "            return path + [node]\n",
        "\n",
        "        if node not in visited: # Jika simpul tersebut belum dikunjungi..\n",
        "            visited.add(node) # A* akan menambahkan ke variabel visited\n",
        "            for neighbor, distance in graph[node]: # untuk setiap rute\n",
        "                new_cost = cost + distance # A* akan menghitung biaya baru dengan menambahkan biaya rute tersebut dengan total biaya sebelumnya \n",
        "                new_path = path + [node]\n",
        "                queue.put((new_cost + heuristic(neighbor, goal), neighbor, new_path)) # masukkan simpul tetangga dan jalur baru yang ditemukan ke antrian prioritas dengan total biaya dan heuristik terbaru.\n",
        "\n",
        "    return None # fungsi mengembalikan None jika tidak ada jalur yang ditemukan.\n",
        "\n",
        "def heuristic(node, goal):\n",
        "    # Mendefinisikan nilai heuristic untuk setiap node\n",
        "    heuristik = {\n",
        "        'A': 10,\n",
        "        'B': 8,\n",
        "        'C': 5,\n",
        "        'D': 7,\n",
        "        'E': 3,\n",
        "        'F': 6,\n",
        "        'G': 5,\n",
        "        'H': 3,\n",
        "        'I': 1,\n",
        "        'J': 0\n",
        "    }\n",
        "    return heuristik[node]\n",
        "\n",
        "# Cari jalur dari A ke J menggunakan A* dan jalur dicetak dengan menggunakan String\n",
        "path = a_star(peta, 'A', 'J')\n",
        "print(''.join(path)) # String dicetak dari penggabungan nilai simpul pada jalur terpendek yang ditemukan menggunakan metode join().\n"
      ]
    }
  ]
}